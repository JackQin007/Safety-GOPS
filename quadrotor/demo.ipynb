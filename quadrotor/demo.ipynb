{
 "cells": [
  {
   "cell_type": "code",
   "execution_count": 10,
   "metadata": {},
   "outputs": [
    {
     "name": "stderr",
     "output_type": "stream",
     "text": [
      "usage: ipykernel_launcher.py [-h] [--algo ALGO] [--task TASK]\n",
      "                             [--overrides OVERRIDES [OVERRIDES ...]]\n",
      "                             [--kv_overrides KV_OVERRIDES [KV_OVERRIDES ...]]\n",
      "ipykernel_launcher.py: error: unrecognized arguments: --ip=127.0.0.1 --stdin=9013 --control=9011 --hb=9010 --Session.signature_scheme=\"hmac-sha256\" --Session.key=b\"9032947b-99ea-4f61-9874-6bc7c27fb603\" --shell=9012 --transport=\"tcp\" --iopub=9014 --f=/home/jack/.local/share/jupyter/runtime/kernel-v2-132284USAxzQOiqwOr.json\n"
     ]
    },
    {
     "ename": "SystemExit",
     "evalue": "2",
     "output_type": "error",
     "traceback": [
      "An exception has occurred, use %tb to see the full traceback.\n",
      "\u001b[0;31mSystemExit\u001b[0m\u001b[0;31m:\u001b[0m 2\n"
     ]
    }
   ],
   "source": [
    "from functools import partial\n",
    "\n",
    "from utils.registration import make\n",
    "from utils.configuration import ConfigFactory\n",
    "from env.benchmark_env import Task, Environment\n",
    "from ppo import *\n",
    "\n",
    "\n",
    "\n",
    "\n",
    "import argparse\n",
    "\n",
    "def main():\n",
    "    # 创建命令行参数解析器\n",
    "    parser = argparse.ArgumentParser(description='RL Experiment')\n",
    "\n",
    "    # 添加命令行参数并设置默认值\n",
    "    parser.add_argument('--algo', type=str, default='ppo', help='Algorithm type')\n",
    "    parser.add_argument('--task', type=str, default='quadrotor', help='Task type')\n",
    "    parser.add_argument('--overrides', nargs='+', default=['env/quadrotor_2D/quadrotor_2D_track.yaml'], help='List of configuration override files')\n",
    "    parser.add_argument('--kv_overrides', nargs='+', default=['algo_config.training=False'], help='Key-value overrides')\n",
    "\n",
    "    # 解析命令行参数\n",
    "    args = parser.parse_args()\n",
    "\n",
    "    # 输出解析后的参数值\n",
    "    print('Algorithm:', args.algo)\n",
    "    print('Task:', args.task)\n",
    "    print('Overrides:', args.overrides)\n",
    "    print('Key-Value Overrides:', args.kv_overrides)\n",
    "\n",
    "    fac = ConfigFactory()\n",
    "    config = fac.merge()\n",
    "    task =  'track'\n",
    "    env_func = partial(make,\n",
    "                        config.task,\n",
    "                        **config.task_config)\n",
    "    env = env_func()\n",
    "    env.reset()\n",
    "    obs, reward, done, info = env.step([-1.8674284 ,-0.7863587])\n",
    "    print('obs, reward, done, info',obs,reward,done,info)\n",
    "\n",
    "if __name__ == '__main__':\n",
    "    main()\n",
    "   \n"
   ]
  },
  {
   "cell_type": "code",
   "execution_count": null,
   "metadata": {},
   "outputs": [],
   "source": []
  }
 ],
 "metadata": {
  "kernelspec": {
   "display_name": "safe",
   "language": "python",
   "name": "python3"
  },
  "language_info": {
   "codemirror_mode": {
    "name": "ipython",
    "version": 3
   },
   "file_extension": ".py",
   "mimetype": "text/x-python",
   "name": "python",
   "nbconvert_exporter": "python",
   "pygments_lexer": "ipython3",
   "version": "3.10.13"
  }
 },
 "nbformat": 4,
 "nbformat_minor": 2
}
