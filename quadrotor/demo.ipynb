{
 "cells": [
  {
   "cell_type": "code",
   "execution_count": 11,
   "metadata": {},
   "outputs": [
    {
     "ename": "AttributeError",
     "evalue": "task",
     "output_type": "error",
     "traceback": [
      "\u001b[0;31m---------------------------------------------------------------------------\u001b[0m",
      "\u001b[0;31mAttributeError\u001b[0m                            Traceback (most recent call last)",
      "File \u001b[0;32m~/anaconda3/envs/safe/lib/python3.10/site-packages/munch/__init__.py:103\u001b[0m, in \u001b[0;36mMunch.__getattr__\u001b[0;34m(self, k)\u001b[0m\n\u001b[1;32m    101\u001b[0m \u001b[39mtry\u001b[39;00m:\n\u001b[1;32m    102\u001b[0m     \u001b[39m# Throws exception if not in prototype chain\u001b[39;00m\n\u001b[0;32m--> 103\u001b[0m     \u001b[39mreturn\u001b[39;00m \u001b[39mobject\u001b[39;49m\u001b[39m.\u001b[39;49m\u001b[39m__getattribute__\u001b[39;49m(\u001b[39mself\u001b[39;49m, k)\n\u001b[1;32m    104\u001b[0m \u001b[39mexcept\u001b[39;00m \u001b[39mAttributeError\u001b[39;00m:\n",
      "\u001b[0;31mAttributeError\u001b[0m: 'Munch' object has no attribute 'task'",
      "\nDuring handling of the above exception, another exception occurred:\n",
      "\u001b[0;31mKeyError\u001b[0m                                  Traceback (most recent call last)",
      "File \u001b[0;32m~/anaconda3/envs/safe/lib/python3.10/site-packages/munch/__init__.py:106\u001b[0m, in \u001b[0;36mMunch.__getattr__\u001b[0;34m(self, k)\u001b[0m\n\u001b[1;32m    105\u001b[0m \u001b[39mtry\u001b[39;00m:\n\u001b[0;32m--> 106\u001b[0m     \u001b[39mreturn\u001b[39;00m \u001b[39mself\u001b[39;49m[k]\n\u001b[1;32m    107\u001b[0m \u001b[39mexcept\u001b[39;00m \u001b[39mKeyError\u001b[39;00m:\n",
      "\u001b[0;31mKeyError\u001b[0m: 'task'",
      "\nDuring handling of the above exception, another exception occurred:\n",
      "\u001b[0;31mAttributeError\u001b[0m                            Traceback (most recent call last)",
      "\u001b[1;32m/home/jack/code/Safety-GOPS/quadrotor/demo.ipynb Cell 1\u001b[0m line \u001b[0;36m2\n\u001b[1;32m     <a href='vscode-notebook-cell:/home/jack/code/Safety-GOPS/quadrotor/demo.ipynb#W0sZmlsZQ%3D%3D?line=17'>18</a>\u001b[0m     \u001b[39mprint\u001b[39m(\u001b[39m'\u001b[39m\u001b[39mobs, reward, done, info\u001b[39m\u001b[39m'\u001b[39m,obs,reward,done,info)\n\u001b[1;32m     <a href='vscode-notebook-cell:/home/jack/code/Safety-GOPS/quadrotor/demo.ipynb#W0sZmlsZQ%3D%3D?line=19'>20</a>\u001b[0m \u001b[39mif\u001b[39;00m \u001b[39m__name__\u001b[39m \u001b[39m==\u001b[39m \u001b[39m'\u001b[39m\u001b[39m__main__\u001b[39m\u001b[39m'\u001b[39m:\n\u001b[0;32m---> <a href='vscode-notebook-cell:/home/jack/code/Safety-GOPS/quadrotor/demo.ipynb#W0sZmlsZQ%3D%3D?line=20'>21</a>\u001b[0m     main()\n",
      "\u001b[1;32m/home/jack/code/Safety-GOPS/quadrotor/demo.ipynb Cell 1\u001b[0m line \u001b[0;36m1\n\u001b[1;32m     <a href='vscode-notebook-cell:/home/jack/code/Safety-GOPS/quadrotor/demo.ipynb#W0sZmlsZQ%3D%3D?line=9'>10</a>\u001b[0m fac \u001b[39m=\u001b[39m ConfigFactory()\n\u001b[1;32m     <a href='vscode-notebook-cell:/home/jack/code/Safety-GOPS/quadrotor/demo.ipynb#W0sZmlsZQ%3D%3D?line=10'>11</a>\u001b[0m config \u001b[39m=\u001b[39m fac\u001b[39m.\u001b[39mmerge()\n\u001b[1;32m     <a href='vscode-notebook-cell:/home/jack/code/Safety-GOPS/quadrotor/demo.ipynb#W0sZmlsZQ%3D%3D?line=11'>12</a>\u001b[0m env_func \u001b[39m=\u001b[39m partial(make,\n\u001b[0;32m---> <a href='vscode-notebook-cell:/home/jack/code/Safety-GOPS/quadrotor/demo.ipynb#W0sZmlsZQ%3D%3D?line=12'>13</a>\u001b[0m                     config\u001b[39m.\u001b[39;49mtask,\n\u001b[1;32m     <a href='vscode-notebook-cell:/home/jack/code/Safety-GOPS/quadrotor/demo.ipynb#W0sZmlsZQ%3D%3D?line=13'>14</a>\u001b[0m                     \u001b[39m*\u001b[39m\u001b[39m*\u001b[39mconfig\u001b[39m.\u001b[39mtask_config)\n\u001b[1;32m     <a href='vscode-notebook-cell:/home/jack/code/Safety-GOPS/quadrotor/demo.ipynb#W0sZmlsZQ%3D%3D?line=14'>15</a>\u001b[0m env \u001b[39m=\u001b[39m env_func()\n\u001b[1;32m     <a href='vscode-notebook-cell:/home/jack/code/Safety-GOPS/quadrotor/demo.ipynb#W0sZmlsZQ%3D%3D?line=15'>16</a>\u001b[0m env\u001b[39m.\u001b[39mreset()\n",
      "File \u001b[0;32m~/anaconda3/envs/safe/lib/python3.10/site-packages/munch/__init__.py:108\u001b[0m, in \u001b[0;36mMunch.__getattr__\u001b[0;34m(self, k)\u001b[0m\n\u001b[1;32m    106\u001b[0m     \u001b[39mreturn\u001b[39;00m \u001b[39mself\u001b[39m[k]\n\u001b[1;32m    107\u001b[0m \u001b[39mexcept\u001b[39;00m \u001b[39mKeyError\u001b[39;00m:\n\u001b[0;32m--> 108\u001b[0m     \u001b[39mraise\u001b[39;00m \u001b[39mAttributeError\u001b[39;00m(k)\n",
      "\u001b[0;31mAttributeError\u001b[0m: task"
     ]
    }
   ],
   "source": [
    "from functools import partial\n",
    "from utils.registration import make\n",
    "from utils.configuration import ConfigFactory\n",
    "from env.benchmark_env import Task, Environment\n",
    "from ppo import *\n",
    "\n",
    "\n",
    "def main():\n",
    "    # 创建命令行参数解析器\n",
    "    fac = ConfigFactory()\n",
    "    config = fac.merge()\n",
    "    env_func = partial(make,\n",
    "                        config.task,\n",
    "                        **config.task_config)\n",
    "    env = env_func()\n",
    "    env.reset()\n",
    "    obs, reward, done, info = env.step([-1.8674284 ,-0.7863587])\n",
    "    print('obs, reward, done, info',obs,reward,done,info)\n",
    "\n",
    "if __name__ == '__main__':\n",
    "    main()\n",
    "   \n"
   ]
  },
  {
   "cell_type": "code",
   "execution_count": null,
   "metadata": {},
   "outputs": [],
   "source": []
  }
 ],
 "metadata": {
  "kernelspec": {
   "display_name": "safe",
   "language": "python",
   "name": "python3"
  },
  "language_info": {
   "codemirror_mode": {
    "name": "ipython",
    "version": 3
   },
   "file_extension": ".py",
   "mimetype": "text/x-python",
   "name": "python",
   "nbconvert_exporter": "python",
   "pygments_lexer": "ipython3",
   "version": "3.10.13"
  }
 },
 "nbformat": 4,
 "nbformat_minor": 2
}
